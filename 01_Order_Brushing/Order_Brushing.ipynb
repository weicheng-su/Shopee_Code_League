{
 "cells": [
  {
   "cell_type": "code",
   "execution_count": null,
   "metadata": {},
   "outputs": [],
   "source": [
    "import pandas as pd\n",
    "import numpy as np\n",
    "import datetime\n",
    "from datetime import datetime, timedelta\n",
    "import time"
   ]
  },
  {
   "cell_type": "code",
   "execution_count": null,
   "metadata": {},
   "outputs": [],
   "source": [
    "orders = pd.read_csv('order_brush_order.csv.zip', compression='zip', \n",
    "                                 header=0, sep=',', quotechar='\"')"
   ]
  },
  {
   "cell_type": "code",
   "execution_count": null,
   "metadata": {},
   "outputs": [],
   "source": [
    "orders.shape"
   ]
  },
  {
   "cell_type": "code",
   "execution_count": null,
   "metadata": {},
   "outputs": [],
   "source": [
    "orders.head(20)"
   ]
  },
  {
   "cell_type": "code",
   "execution_count": null,
   "metadata": {},
   "outputs": [],
   "source": [
    "orders['event_time'] = pd.to_datetime(orders['event_time'])  "
   ]
  },
  {
   "cell_type": "code",
   "execution_count": null,
   "metadata": {},
   "outputs": [],
   "source": [
    "orders['shopid'].value_counts()"
   ]
  },
  {
   "cell_type": "code",
   "execution_count": null,
   "metadata": {},
   "outputs": [],
   "source": [
    "group_shops = orders.groupby('shopid')"
   ]
  },
  {
   "cell_type": "code",
   "execution_count": null,
   "metadata": {},
   "outputs": [],
   "source": [
    "group_shops.groups"
   ]
  },
  {
   "cell_type": "code",
   "execution_count": null,
   "metadata": {},
   "outputs": [],
   "source": [
    "group_shops.groups.keys()"
   ]
  },
  {
   "cell_type": "code",
   "execution_count": null,
   "metadata": {},
   "outputs": [],
   "source": [
    "for (shopid, group) in orders.groupby('shopid'):\n",
    "    print(group.head(5))"
   ]
  },
  {
   "cell_type": "code",
   "execution_count": null,
   "metadata": {},
   "outputs": [],
   "source": [
    "for (shopid, group) in orders.groupby('shopid'):\n",
    "    print(group.head(5))"
   ]
  },
  {
   "cell_type": "code",
   "execution_count": null,
   "metadata": {},
   "outputs": [],
   "source": [
    "shopid_10159 = group_shops.get_group(181009364)\n",
    "shopid_10159"
   ]
  },
  {
   "cell_type": "code",
   "execution_count": null,
   "metadata": {},
   "outputs": [],
   "source": [
    "shopid_10159['timestamp'] = shopid_10159[\"event_time\"].values.astype(np.int64) // 10 ** 9\n",
    "shopid_10159"
   ]
  },
  {
   "cell_type": "code",
   "execution_count": null,
   "metadata": {},
   "outputs": [],
   "source": [
    "shopid_10159.sort_values(by=['timestamp'], inplace=True)\n",
    "shopid_10159 = shopid_10159.reset_index(drop = True)\n",
    "shopid_10159"
   ]
  },
  {
   "cell_type": "code",
   "execution_count": null,
   "metadata": {},
   "outputs": [],
   "source": [
    "# df_order_proportion = pd.DataFrame(columns = [\"index\",\"order_proportion\"]) #建立一個空的 dataframe\n",
    "\n",
    "# # 用類似 window 的方式，把每筆資料加1小時後的區段皆做檢測\n",
    "# for i in range(shopid_10159[\"timestamp\"].size):\n",
    "#     flag = shopid_10159.at[i,\"timestamp\"] # flag 代表當下挑的那筆資料，往後再加3600秒\n",
    "#     print(\"flag: \" + str(flag))\n",
    "#     mask = (shopid_10159[\"timestamp\"] >= flag) & (shopid_10159[\"timestamp\"] <= (flag+3600))\n",
    "#     df_small = shopid_10159.loc[mask]\n",
    "#     print(df_small)\n",
    "    \n",
    "    \n",
    "#     number_of_orders = df_small.shape[0]\n",
    "#     print(\"number_of_orders: \" + str(number_of_orders))\n",
    "#     number_of_unique_buyers = df_small.userid.nunique()\n",
    "#     print(\"number_of_unique_buyers: \" + str(number_of_unique_buyers))\n",
    "#     print(\"\\n\")\n",
    "#     concentrate_rate = number_of_orders/number_of_unique_buyers\n",
    "        \n",
    "#     if (concentrate_rate >= 3): # 代表這一段資料裡有 order brushing\n",
    "#         small_order_proportion = (df_small[\"userid\"].value_counts()/df_small.shape[0]).to_frame(name = \"order_proportion\")\n",
    "#         small_order_proportion.reset_index(level=0, inplace=True)\n",
    "#         df_order_proportion = pd.concat([df_order_proportion, small_order_proportion], axis=0)"
   ]
  },
  {
   "cell_type": "code",
   "execution_count": null,
   "metadata": {},
   "outputs": [],
   "source": [
    "df_order_proportion"
   ]
  },
  {
   "cell_type": "code",
   "execution_count": null,
   "metadata": {},
   "outputs": [],
   "source": [
    "df_result = pd.DataFrame(columns = [\"shopid\",\"userid\"]) # 這行code要放外層迴圈外面！！！\n",
    "\n",
    "df_order_brushing = pd.DataFrame(columns = [\"orderid\",\"shopid\",\"userid\",\"event_time\",\"timestamp\"]) #建立一個空的 dataframe\n",
    "\n",
    "# 用類似 window 的方式，把每筆資料加1小時後的區段皆做檢測\n",
    "for i in range(shopid_10159[\"timestamp\"].size):\n",
    "    flag = shopid_10159.at[i,\"timestamp\"] # flag 代表當下挑的那筆資料，往後再加3600秒\n",
    "    print(\"flag: \" + str(flag))\n",
    "    mask = (shopid_10159[\"timestamp\"] >= flag) & (shopid_10159[\"timestamp\"] <= (flag+3600))\n",
    "    df_small = shopid_10159.loc[mask]\n",
    "    print(df_small)\n",
    "    \n",
    "    \n",
    "    number_of_orders = df_small.shape[0]\n",
    "    print(\"number_of_orders: \" + str(number_of_orders))\n",
    "    number_of_unique_buyers = df_small.userid.nunique()\n",
    "    print(\"number_of_unique_buyers: \" + str(number_of_unique_buyers))\n",
    "    print(\"\\n\")\n",
    "    concentrate_rate = number_of_orders/number_of_unique_buyers\n",
    "        \n",
    "    if (concentrate_rate >= 3): # 代表這一段資料裡有 order brushing\n",
    "        df_order_brushing = pd.concat([df_order_brushing, df_small], axis=0)\n",
    "\n",
    "        \n",
    "# calculate the concentrate rate\n",
    "total_brushing = df_order_brushing.shape[0] # total number of orders during all order brushing periods\n",
    "df_order_proportion = (df_order_brushing[\"userid\"].value_counts()/total_brushing).to_frame(name = \"order_proportion\")\n",
    "df_order_proportion.reset_index(level=0, inplace=True)\n",
    "df_order_proportion.columns =['userid', 'order_proportion']\n",
    "\n",
    "# find out which user is the suspicious buyer (having higest order proportion)\n",
    "max_value = df_order_proportion['order_proportion'].max()\n",
    "#use a list to save the suspicious buyers\n",
    "max_order_brushing_list = df_order_proportion[df_order_proportion['order_proportion'] == max_value].userid.tolist()\n",
    "max_order_brushing_list.sort() # 讓這些 userid 照大小排好\n",
    "\n",
    "# concat 到 df_output 上面\n",
    "if(len(max_order_brushing_list)==0):\n",
    "    df_result = df.append({'shopid': shopid, 'userid':0}, ignore_index=True)\n",
    "\n",
    "else if(len(max_order_brushing_list)==1):\n",
    "    userid_result = max_order_brushing_list[0]\n",
    "    df_result = df.append({'shopid': shopid, 'userid': userid_result}, ignore_index=True)\n",
    "\n",
    "else:\n",
    "    userid_result = '&'\n",
    "    userid_result = userid_result.join(map(str, max_order_brushing_list)) #先轉換成 string 後，再用&把每個元素連在一起\n",
    "    df_result = df.append({'shopid': shopid, 'userid': userid_result}, ignore_index=True)\n",
    "\n"
   ]
  },
  {
   "cell_type": "code",
   "execution_count": null,
   "metadata": {},
   "outputs": [],
   "source": [
    "df_order_brushing"
   ]
  },
  {
   "cell_type": "code",
   "execution_count": null,
   "metadata": {},
   "outputs": [],
   "source": [
    "df_order_proportion"
   ]
  },
  {
   "cell_type": "code",
   "execution_count": null,
   "metadata": {},
   "outputs": [],
   "source": [
    "max_value = df_order_proportion['order_proportion'].max()\n",
    "#用一個list把這些洗評分的使用者存起來\n",
    "max_order_brushing_list = df_order_proportion[df_order_proportion['order_proportion'] == max_value].userid.tolist()\n",
    "max_order_brushing_list.sort() # 讓這些 userid 照大小排好\n",
    "print(max_order_brushing_list)"
   ]
  },
  {
   "cell_type": "code",
   "execution_count": null,
   "metadata": {},
   "outputs": [],
   "source": [
    "userid_result = '&'\n",
    "userid_result = userid_result.join(map(str, max_order_brushing_list))\n",
    "print(userid_result)"
   ]
  },
  {
   "cell_type": "code",
   "execution_count": null,
   "metadata": {},
   "outputs": [],
   "source": [
    "df_order_proportion = (shopid_10159[\"userid\"].value_counts()/shopid_10159.shape[0]).to_frame(name = \"order_proportion\")\n",
    "df_order_proportion.reset_index(level=0, inplace=True)\n",
    "df_order_proportion"
   ]
  },
  {
   "cell_type": "markdown",
   "metadata": {},
   "source": [
    "## 來把全部組合在一起"
   ]
  },
  {
   "cell_type": "code",
   "execution_count": null,
   "metadata": {},
   "outputs": [],
   "source": [
    "df_result = pd.DataFrame(columns = [\"shopid\",\"userid\"]) # 這行code要放外層迴圈外面！！！\n",
    "\n",
    "for (shopid, group) in orders.groupby('shopid'):\n",
    "\n",
    "    df_order_brushing = pd.DataFrame(columns = [\"orderid\",\"shopid\",\"userid\",\"event_time\",\"timestamp\"]) #建立一個空的 dataframe\n",
    "\n",
    "    group['timestamp'] = group[\"event_time\"].values.astype(np.int64) // 10 ** 9\n",
    "    group.sort_values(by=['timestamp'], inplace=True)\n",
    "    group = group.reset_index(drop = True)\n",
    "\n",
    "    # 用類似 window 的方式，把每筆資料加1小時後的區段皆做檢測\n",
    "    for i in range(group[\"timestamp\"].size):\n",
    "        flag = group.at[i,\"timestamp\"] # flag 代表當下挑的那筆資料，往後再加3600秒\n",
    "#         print(\"flag: \" + str(flag))\n",
    "        mask = (group[\"timestamp\"] >= flag) & (group[\"timestamp\"] <= (flag+3600))\n",
    "        df_small = group.loc[mask]\n",
    "#         print(df_small)\n",
    "\n",
    "\n",
    "        number_of_orders = df_small.shape[0]\n",
    "#         print(\"number_of_orders: \" + str(number_of_orders))\n",
    "        number_of_unique_buyers = df_small.userid.nunique()\n",
    "#         print(\"number_of_unique_buyers: \" + str(number_of_unique_buyers))\n",
    "#         print(\"\\n\")\n",
    "        concentrate_rate = number_of_orders/number_of_unique_buyers\n",
    "\n",
    "        if (concentrate_rate >= 3): # 代表這一段資料裡有 order brushing\n",
    "            df_order_brushing = pd.concat([df_order_brushing, df_small], axis=0)\n",
    "\n",
    "\n",
    "    # calculate the concentrate rate\n",
    "    total_brushing = df_order_brushing.shape[0] # total number of orders during all order brushing periods\n",
    "    df_order_proportion = (df_order_brushing[\"userid\"].value_counts()/total_brushing).to_frame(name = \"order_proportion\")\n",
    "    df_order_proportion.reset_index(level=0, inplace=True)\n",
    "    df_order_proportion.columns =['userid', 'order_proportion']\n",
    "\n",
    "    # find out which user is the suspicious buyer (having higest order proportion)\n",
    "    max_value = df_order_proportion['order_proportion'].max()\n",
    "    #use a list to save the suspicious buyers\n",
    "    max_order_brushing_list = df_order_proportion[df_order_proportion['order_proportion'] == max_value].userid.tolist()\n",
    "    max_order_brushing_list.sort() # 讓這些 userid 照大小排好\n",
    "\n",
    "    # concat 到 df_output 上面\n",
    "    if(len(max_order_brushing_list)==0):\n",
    "        df_result = df_result.append({'shopid': shopid, 'userid':0}, ignore_index=True)\n",
    "\n",
    "    elif(len(max_order_brushing_list)==1):\n",
    "        userid_result = max_order_brushing_list[0]\n",
    "        df_result = df_result.append({'shopid': shopid, 'userid': userid_result}, ignore_index=True)\n",
    "\n",
    "    else:\n",
    "        userid_result = '&'\n",
    "        userid_result = userid_result.join(map(str, max_order_brushing_list)) #先轉換成 string 後，再用&把每個元素連在一起\n",
    "        df_result = df_result.append({'shopid': shopid, 'userid': userid_result}, ignore_index=True)\n",
    "\n"
   ]
  },
  {
   "cell_type": "code",
   "execution_count": null,
   "metadata": {},
   "outputs": [],
   "source": [
    "import os\n",
    "print(\"The file will be saved under this path: \", os.getcwd())\n",
    "export_csv = test_df.to_csv (r'submission_'+time.strftime(\"%Y-%m-%d %H%M%S\", time.localtime())+'.csv', \n",
    "                             index = None, header = True) "
   ]
  },
  {
   "cell_type": "code",
   "execution_count": null,
   "metadata": {},
   "outputs": [],
   "source": []
  }
 ],
 "metadata": {
  "kernelspec": {
   "display_name": "Python 3",
   "language": "python",
   "name": "python3"
  },
  "language_info": {
   "codemirror_mode": {
    "name": "ipython",
    "version": 3
   },
   "file_extension": ".py",
   "mimetype": "text/x-python",
   "name": "python",
   "nbconvert_exporter": "python",
   "pygments_lexer": "ipython3",
   "version": "3.7.4"
  },
  "toc": {
   "base_numbering": 1,
   "nav_menu": {},
   "number_sections": true,
   "sideBar": true,
   "skip_h1_title": false,
   "title_cell": "Table of Contents",
   "title_sidebar": "Contents",
   "toc_cell": false,
   "toc_position": {},
   "toc_section_display": true,
   "toc_window_display": false
  }
 },
 "nbformat": 4,
 "nbformat_minor": 2
}
